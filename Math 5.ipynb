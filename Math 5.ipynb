{
 "cells": [
  {
   "cell_type": "markdown",
   "id": "aff4d295",
   "metadata": {},
   "source": [
    "- Используя модуль $\\texttt{random}$, создайте массив NumPy с 2 строками и 3 столбцами, в котором есть записи, представляющие собой случайные положительные целые числа меньше 10. Распечатайте свой массив. Измените запись в первой строке второго столбца на 8 и удвойте значение во второй строке третьего столбца. Распечатайте полученный массив, чтобы убедиться, что ваш код внес правильные изменения."
   ]
  },
  {
   "cell_type": "code",
   "execution_count": 4,
   "id": "07854f6c",
   "metadata": {},
   "outputs": [
    {
     "data": {
      "text/plain": [
       "array([[2, 3, 3],\n",
       "       [5, 8, 2]])"
      ]
     },
     "execution_count": 4,
     "metadata": {},
     "output_type": "execute_result"
    }
   ],
   "source": [
    "import numpy as np\n",
    "\n",
    "\n",
    "task_1 = np.random.randint(0,10,6).reshape(2,3)\n",
    "task_1\n",
    "\n"
   ]
  },
  {
   "cell_type": "code",
   "execution_count": 6,
   "id": "9e36dee2",
   "metadata": {},
   "outputs": [
    {
     "data": {
      "text/plain": [
       "array([[2, 8, 3],\n",
       "       [5, 8, 4]])"
      ]
     },
     "execution_count": 6,
     "metadata": {},
     "output_type": "execute_result"
    }
   ],
   "source": [
    "task_1[0,1] = 8\n",
    "task_1[1,2] = task_1[1,2] * 2\n",
    "task_1"
   ]
  },
  {
   "cell_type": "markdown",
   "id": "fb6fb31d",
   "metadata": {},
   "source": [
    "- Используя модуль $\\texttt{random}$, создайте массив NumPy с 3 строками и 3 столбцами, в котором есть записи, представляющие собой случайные положительные целые числа меньше 10. Распечатайте свой массив. Теперь умножьте каждое значение в матрице на 5, а затем добавьте 1 ко всем элементам во второй строке. После этого разделите каждую диагональную запись на 2 и распечатайте полученный массив, чтобы убедиться, что ваш код внес правильные изменения."
   ]
  },
  {
   "cell_type": "code",
   "execution_count": 7,
   "id": "8252b9fb",
   "metadata": {},
   "outputs": [
    {
     "data": {
      "text/plain": [
       "array([[8, 2, 7],\n",
       "       [2, 5, 4],\n",
       "       [2, 1, 1]])"
      ]
     },
     "execution_count": 7,
     "metadata": {},
     "output_type": "execute_result"
    }
   ],
   "source": [
    "task_2 = np.random.randint(size=(3,3), high=10,low=0) \n",
    "task_2\n"
   ]
  },
  {
   "cell_type": "code",
   "execution_count": 8,
   "id": "0772d5aa",
   "metadata": {},
   "outputs": [
    {
     "data": {
      "text/plain": [
       "array([[13,  7, 12],\n",
       "       [ 7, 10,  9],\n",
       "       [ 7,  6,  6]])"
      ]
     },
     "execution_count": 8,
     "metadata": {},
     "output_type": "execute_result"
    }
   ],
   "source": [
    "task_2 += 5\n",
    "task_2"
   ]
  },
  {
   "cell_type": "code",
   "execution_count": 9,
   "id": "8f9d8fce",
   "metadata": {},
   "outputs": [
    {
     "data": {
      "text/plain": [
       "array([[13,  7, 12],\n",
       "       [ 8, 11, 10],\n",
       "       [ 7,  6,  6]])"
      ]
     },
     "execution_count": 9,
     "metadata": {},
     "output_type": "execute_result"
    }
   ],
   "source": [
    "task_2[1,] += 1 \n",
    "task_2"
   ]
  },
  {
   "cell_type": "code",
   "execution_count": 10,
   "id": "70495880",
   "metadata": {},
   "outputs": [
    {
     "data": {
      "text/plain": [
       "array([[ 6,  7, 12],\n",
       "       [ 8,  5, 10],\n",
       "       [ 7,  6,  3]])"
      ]
     },
     "execution_count": 10,
     "metadata": {},
     "output_type": "execute_result"
    }
   ],
   "source": [
    "len, weight = task_2.shape\n",
    "\n",
    "for i in range(len):\n",
    "    task_2[i,i] /=2\n",
    "\n",
    "task_2"
   ]
  },
  {
   "cell_type": "markdown",
   "id": "dadbaaae",
   "metadata": {},
   "source": [
    "- Используя модуль $\\texttt{random}$, создайте массив NumPy с 2 строками и 3 столбцами, в котором элементы являются случайными целыми числами больше 5 и меньше 13. Напишите код, который заменяет все четные элементы матрицы на 0. Распечатайте массив и проверьте результаты. Запустите код несколько раз, чтобы убедиться, что он работает для *разных* случайных массивов."
   ]
  },
  {
   "cell_type": "code",
   "execution_count": 11,
   "id": "ba29ea95",
   "metadata": {},
   "outputs": [
    {
     "data": {
      "text/plain": [
       "array([[12,  9,  7],\n",
       "       [ 8, 12, 11]])"
      ]
     },
     "execution_count": 11,
     "metadata": {},
     "output_type": "execute_result"
    }
   ],
   "source": [
    "task_3 = np.random.randint(size=(2,3), high= 13, low=6)\n",
    "task_3"
   ]
  },
  {
   "cell_type": "code",
   "execution_count": 12,
   "id": "b45a5fe0",
   "metadata": {},
   "outputs": [
    {
     "data": {
      "text/plain": [
       "array([[10,  8,  8],\n",
       "       [11, 12,  8]])"
      ]
     },
     "execution_count": 12,
     "metadata": {},
     "output_type": "execute_result"
    }
   ],
   "source": [
    "# Если 5 Должна быть включительной\n",
    "\n",
    "task_3_1 = np.random.randint(size=(2,3), high=13, low=5)\n",
    "task_3_1"
   ]
  },
  {
   "cell_type": "code",
   "execution_count": 14,
   "id": "7cf04ab2",
   "metadata": {},
   "outputs": [
    {
     "data": {
      "text/plain": [
       "array([[ 0,  9,  7],\n",
       "       [ 0,  0, 11]])"
      ]
     },
     "execution_count": 14,
     "metadata": {},
     "output_type": "execute_result"
    }
   ],
   "source": [
    "task_3[task_3 % 2==0] = 0\n",
    "task_3"
   ]
  },
  {
   "cell_type": "markdown",
   "id": "0c2086ae",
   "metadata": {},
   "source": [
    "- Используйте matplotlib для построения кривой $y= 4+x-0,5x^2$, где $x$ лежит в интервале $[-1,5]$. Используйте $\\texttt{linspace}$ для создания массива координат точек на кривой. Кривая должна быть пунктирной и показана зеленым цветом."
   ]
  },
  {
   "cell_type": "code",
   "execution_count": 15,
   "id": "db08b0bb",
   "metadata": {},
   "outputs": [
    {
     "data": {
      "image/png": "[encoded data removed]",
      "text/plain": [
       "<Figure size 640x480 with 1 Axes>"
      ]
     },
     "metadata": {},
     "output_type": "display_data"
    }
   ],
   "source": [
    "import matplotlib.pyplot as plt\n",
    "\n",
    "def y_func (x):\n",
    "    if isinstance(x,list):\n",
    "        return [val + 4 - 0.5 ** val for val in x]\n",
    "    else:\n",
    "        return 4 + x - 0.5 ** x\n",
    "x = np.linspace(-1,5,100) \n",
    "y = y_func(x)\n",
    "\n",
    "\n",
    "plt.plot(x,y,color='g')\n",
    "plt.show()"
   ]
  },
  {
   "cell_type": "markdown",
   "id": "1a644802",
   "metadata": {},
   "source": [
    "- Сколькими способами 23 ребенка могут сесть на 23 стула на уроке математики?"
   ]
  },
  {
   "cell_type": "code",
   "execution_count": 16,
   "id": "a8d3667e",
   "metadata": {},
   "outputs": [
    {
     "data": {
      "text/plain": [
       "25852016738884976640000"
      ]
     },
     "execution_count": 16,
     "metadata": {},
     "output_type": "execute_result"
    }
   ],
   "source": [
    "import math \n",
    "\n",
    "math.factorial(23)"
   ]
  },
  {
   "cell_type": "markdown",
   "id": "5bed34f1",
   "metadata": {},
   "source": [
    "- Сколько различных способов есть у любых 2 из 5 учеников, чтобы сесть на 2 стула? То есть нужно посчитать количество рассадок для 2 учеников из 5 учеников чтобы сесть на 2 стула"
   ]
  },
  {
   "cell_type": "code",
   "execution_count": 19,
   "id": "6b3bb777",
   "metadata": {},
   "outputs": [
    {
     "data": {
      "text/plain": [
       "20"
      ]
     },
     "execution_count": 19,
     "metadata": {},
     "output_type": "execute_result"
    }
   ],
   "source": [
    "math.perm(5,2)"
   ]
  },
  {
   "cell_type": "markdown",
   "id": "0f2ac891",
   "metadata": {},
   "source": [
    "- У вас в классе учится 30 человек. Сколько разных футбольных команд можно сделать, где команда состоит из 7 человек (учитывайте что Галымбек, Алмас, Багдат и Багдат, Алмас, Галымбек это одна и та же команда, и мы должны учитывать только одну команду)"
   ]
  },
  {
   "cell_type": "code",
   "execution_count": 18,
   "id": "cce2f62e",
   "metadata": {},
   "outputs": [
    {
     "data": {
      "text/plain": [
       "2035800"
      ]
     },
     "execution_count": 18,
     "metadata": {},
     "output_type": "execute_result"
    }
   ],
   "source": [
    "math.comb(30,7)"
   ]
  }
 ],
 "metadata": {
  "kernelspec": {
   "display_name": "Python 3",
   "language": "python",
   "name": "python3"
  },
  "language_info": {
   "codemirror_mode": {
    "name": "ipython",
    "version": 3
   },
   "file_extension": ".py",
   "mimetype": "text/x-python",
   "name": "python",
   "nbconvert_exporter": "python",
   "pygments_lexer": "ipython3",
   "version": "3.11.0"
  }
 },
 "nbformat": 4,
 "nbformat_minor": 5
}
